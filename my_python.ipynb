{
 "cells": [
  {
   "cell_type": "code",
   "execution_count": 2,
   "id": "1a17808b-0b98-4d7f-b283-10d56a3542ab",
   "metadata": {
    "tags": []
   },
   "outputs": [
    {
     "name": "stdout",
     "output_type": "stream",
     "text": [
      "hello world\n"
     ]
    }
   ],
   "source": [
    "print(\"hello world\")"
   ]
  },
  {
   "cell_type": "code",
   "execution_count": 3,
   "id": "287dc93e-38d9-41a1-93c7-82db6ff3aeb3",
   "metadata": {
    "tags": []
   },
   "outputs": [
    {
     "name": "stdout",
     "output_type": "stream",
     "text": [
      "Prasopphol Talhom\n"
     ]
    }
   ],
   "source": [
    "print(\"Prasopphol Talhom\")"
   ]
  },
  {
   "cell_type": "code",
   "execution_count": 4,
   "id": "cbb27a1d-d56f-4b15-bfcb-1b82edc93d21",
   "metadata": {
    "tags": []
   },
   "outputs": [
    {
     "name": "stdout",
     "output_type": "stream",
     "text": [
      "Prasopphol Talhom 6612732118\n"
     ]
    }
   ],
   "source": [
    "print(\"Prasopphol Talhom 6612732118\")"
   ]
  },
  {
   "cell_type": "code",
   "execution_count": null,
   "id": "b3759a20-7434-4104-9525-a5132e01c31e",
   "metadata": {},
   "outputs": [],
   "source": []
  }
 ],
 "metadata": {
  "kernelspec": {
   "display_name": "Python 3 (ipykernel)",
   "language": "python",
   "name": "python3"
  },
  "language_info": {
   "codemirror_mode": {
    "name": "ipython",
    "version": 3
   },
   "file_extension": ".py",
   "mimetype": "text/x-python",
   "name": "python",
   "nbconvert_exporter": "python",
   "pygments_lexer": "ipython3",
   "version": "3.11.5"
  }
 },
 "nbformat": 4,
 "nbformat_minor": 5
}

{
 "cells": [
  {
   "cell_type": "code",
   "execution_count": null,
   "id": "94275ce8-b5f0-4673-a9ac-2980105599b3",
   "metadata": {},
   "outputs": [],
   "source": [
    "'''''\n",
    "นายประสพผล ตาลหอม 6612732118\n",
    "'''''"
   ]
  },
  {
   "cell_type": "code",
   "execution_count": 135,
   "id": "a9089a78-a60d-4c59-b6d0-4e48c9577785",
   "metadata": {
    "tags": []
   },
   "outputs": [
    {
     "name": "stdout",
     "output_type": "stream",
     "text": [
      " * \n",
      " *  * \n",
      " *  *  * \n",
      " *  *  *  * \n",
      " *  *  *  *  * \n",
      " *  *  *  *  *  * \n"
     ]
    }
   ],
   "source": [
    "num = 6\n",
    "for i in range(num):\n",
    "    for j in range(i + 1):\n",
    "        print(\" *\", end=\" \")\n",
    "    print()"
   ]
  },
  {
   "cell_type": "code",
   "execution_count": 138,
   "id": "ed6c45da-8afc-480a-9b28-678af8d78e67",
   "metadata": {
    "tags": []
   },
   "outputs": [
    {
     "name": "stdout",
     "output_type": "stream",
     "text": [
      "                * \n",
      "             *  * \n",
      "          *  *  * \n",
      "       *  *  *  * \n",
      "    *  *  *  *  * \n",
      " *  *  *  *  *  * \n"
     ]
    }
   ],
   "source": [
    "num = 6\n",
    "end = num - 1\n",
    "for i in range(0, num):\n",
    "    for j in range(0, num):\n",
    "        if j >= end - i:\n",
    "            print(\" *\", end=\" \")\n",
    "        else:\n",
    "            print(\"  \", end=\" \")\n",
    "    print()    "
   ]
  },
  {
   "cell_type": "code",
   "execution_count": 137,
   "id": "9adfbf20-0c15-4184-a0c1-a85d32f02c64",
   "metadata": {
    "tags": []
   },
   "outputs": [
    {
     "name": "stdout",
     "output_type": "stream",
     "text": [
      " *  *  *  *  *  * \n",
      " *  *  *  *  * \n",
      " *  *  *  * \n",
      " *  *  * \n",
      " *  * \n",
      " * \n"
     ]
    }
   ],
   "source": [
    "num = 6\n",
    "end = num - 1\n",
    "for i in range(num):\n",
    "    for j in range(num - i):\n",
    "        print(\" *\", end=\" \")\n",
    "    print()"
   ]
  },
  {
   "cell_type": "code",
   "execution_count": 162,
   "id": "e36621d1-1ddb-4f91-a1b2-6923ba98a5a8",
   "metadata": {
    "tags": []
   },
   "outputs": [
    {
     "name": "stdout",
     "output_type": "stream",
     "text": [
      " *   *   *   *   *   *  \n",
      "   *   *   *   *   *  \n",
      "     *   *   *   *  \n",
      "       *   *   *  \n",
      "         *   *  \n",
      "           *  \n"
     ]
    }
   ],
   "source": [
    "num = 6\n",
    "for i in range(num, 0, -1):\n",
    "    for j in range(0, num-i):\n",
    "        print(\" \", end=\" \")\n",
    "    for j in range(0, i):\n",
    "        print(\" * \", end=\" \")\n",
    "    print()"
   ]
  },
  {
   "cell_type": "code",
   "execution_count": null,
   "id": "645f05f0-aa1f-4ce0-aad8-6e0995dc6015",
   "metadata": {},
   "outputs": [],
   "source": []
  }
 ],
 "metadata": {
  "kernelspec": {
   "display_name": "Python 3 (ipykernel)",
   "language": "python",
   "name": "python3"
  },
  "language_info": {
   "codemirror_mode": {
    "name": "ipython",
    "version": 3
   },
   "file_extension": ".py",
   "mimetype": "text/x-python",
   "name": "python",
   "nbconvert_exporter": "python",
   "pygments_lexer": "ipython3",
   "version": "3.11.5"
  }
 },
 "nbformat": 4,
 "nbformat_minor": 5
}
